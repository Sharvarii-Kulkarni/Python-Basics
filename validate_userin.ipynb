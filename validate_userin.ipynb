{
 "cells": [
  {
   "cell_type": "code",
   "execution_count": 10,
   "id": "752570b5",
   "metadata": {},
   "outputs": [],
   "source": [
    "def user_choice():\n",
    "    choice = input(\"Enter a number[0-10]:\")\n",
    "    if choice.isdigit():\n",
    "        print(\"yes its a digit\")\n",
    "    else:\n",
    "        print(\"not a number\")\n",
    "    return choice"
   ]
  },
  {
   "cell_type": "code",
   "execution_count": 11,
   "id": "ebd867f0",
   "metadata": {},
   "outputs": [
    {
     "name": "stdout",
     "output_type": "stream",
     "text": [
      "Enter a number[0-10]:two\n",
      "not a number\n"
     ]
    },
    {
     "data": {
      "text/plain": [
       "'two'"
      ]
     },
     "execution_count": 11,
     "metadata": {},
     "output_type": "execute_result"
    }
   ],
   "source": [
    "user_choice()"
   ]
  },
  {
   "cell_type": "code",
   "execution_count": 21,
   "id": "6e3b5ca7",
   "metadata": {},
   "outputs": [],
   "source": [
    "def user_choice():\n",
    "    choice = 'not'\n",
    "    acceptable_range = range(0,10)\n",
    "    within_range= False\n",
    "    \n",
    "    #check for digit and range\n",
    "    while choice.isdigit()==False or within_range==False:\n",
    "        \n",
    "        choice = input(\"Enter a number[0-10]:\")\n",
    "        \n",
    "        #check for digit\n",
    "        if choice.isdigit()==False:\n",
    "            print(\"its not a number,please enter a number[0-10]\")\n",
    "        \n",
    "        #check for range\n",
    "        if choice.isdigit():\n",
    "            if int(choice) in acceptable_range:\n",
    "                within_range=True\n",
    "            else:\n",
    "                print(\"Sorry not in range [0-10]\")\n",
    "                within_range==False\n",
    "    return choice"
   ]
  },
  {
   "cell_type": "code",
   "execution_count": 22,
   "id": "6b54aa08",
   "metadata": {},
   "outputs": [
    {
     "name": "stdout",
     "output_type": "stream",
     "text": [
      "Enter a number[0-10]:five\n",
      "its not a number,please enter a number[0-10]\n",
      "Enter a number[0-10]:12\n",
      "Sorry not in range [0-10]\n",
      "Enter a number[0-10]:4\n"
     ]
    },
    {
     "data": {
      "text/plain": [
       "'4'"
      ]
     },
     "execution_count": 22,
     "metadata": {},
     "output_type": "execute_result"
    }
   ],
   "source": [
    "user_choice()"
   ]
  },
  {
   "cell_type": "code",
   "execution_count": null,
   "id": "102e0647",
   "metadata": {},
   "outputs": [],
   "source": []
  }
 ],
 "metadata": {
  "kernelspec": {
   "display_name": "Python 3 (ipykernel)",
   "language": "python",
   "name": "python3"
  },
  "language_info": {
   "codemirror_mode": {
    "name": "ipython",
    "version": 3
   },
   "file_extension": ".py",
   "mimetype": "text/x-python",
   "name": "python",
   "nbconvert_exporter": "python",
   "pygments_lexer": "ipython3",
   "version": "3.9.7"
  }
 },
 "nbformat": 4,
 "nbformat_minor": 5
}
